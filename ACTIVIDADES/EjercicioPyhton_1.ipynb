{
  "nbformat": 4,
  "nbformat_minor": 0,
  "metadata": {
    "colab": {
      "provenance": [],
      "authorship_tag": "ABX9TyPlwyYQq0+0Z7SeOXNc8XFu",
      "include_colab_link": true
    },
    "kernelspec": {
      "name": "python3",
      "display_name": "Python 3"
    },
    "language_info": {
      "name": "python"
    }
  },
  "cells": [
    {
      "cell_type": "markdown",
      "metadata": {
        "id": "view-in-github",
        "colab_type": "text"
      },
      "source": [
        "<a href=\"https://colab.research.google.com/github/EdgarBalbuena69/IntArtRedNeu2023Gpo007N1/blob/main/ACTIVIDADES/EjercicioPyhton_1.ipynb\" target=\"_parent\"><img src=\"https://colab.research.google.com/assets/colab-badge.svg\" alt=\"Open In Colab\"/></a>"
      ]
    },
    {
      "cell_type": "markdown",
      "source": [
        "ㅤㅤㅤㅤㅤㅤㅤ**ACTIVIDAD 2.- EJERCICIOS EN PYTHON**"
      ],
      "metadata": {
        "id": "Bvtjtcxm0H7M"
      }
    },
    {
      "cell_type": "markdown",
      "source": [
        "ㅤㅤㅤㅤㅤㅤㅤㅤㅤㅤㅤㅤ**PROGRAMA #1**\n",
        "\n",
        "Programa que solicite al usuario un número y que indique si es par o impar."
      ],
      "metadata": {
        "id": "JaXNzAtd0MHj"
      }
    },
    {
      "cell_type": "code",
      "execution_count": null,
      "metadata": {
        "colab": {
          "base_uri": "https://localhost:8080/"
        },
        "id": "CEh_9IOy0DLt",
        "outputId": "29377150-54c5-4801-e86f-4df119cbf930"
      },
      "outputs": [
        {
          "output_type": "stream",
          "name": "stdout",
          "text": [
            "Ingrese un numero: 123456789\n",
            "El numero 123456789 es impar\n"
          ]
        }
      ],
      "source": [
        "\"\"\"\n",
        "El usuario deberá ingresar un numero y el programa\n",
        "determinará si es un número Par o Impar\n",
        "\"\"\"\n",
        "\n",
        "Numero = int(input(\"Ingrese un numero: \"))\n",
        "\n",
        "if Numero % 2:\n",
        "  print(\"El numero\", Numero, \"es impar\")\n",
        "else:\n",
        "  print(\"El numero\", Numero, \"es par\")"
      ]
    },
    {
      "cell_type": "markdown",
      "source": [
        "ㅤㅤㅤㅤㅤㅤㅤㅤㅤㅤㅤㅤ**PROGRAMA #2**\n",
        "\n",
        "Escribe un programa que tome una lista de números ingresados por el\n",
        "\n",
        "usuario y muestre la lista en orden inverso."
      ],
      "metadata": {
        "id": "M621GC-z0ihp"
      }
    },
    {
      "cell_type": "code",
      "source": [
        "print(\"edite\")"
      ],
      "metadata": {
        "id": "QJgccl5H4ker",
        "outputId": "5e1aaf10-23e3-49c4-b628-f66eb3d2ac4c",
        "colab": {
          "base_uri": "https://localhost:8080/"
        }
      },
      "execution_count": null,
      "outputs": [
        {
          "metadata": {
            "tags": null
          },
          "name": "stdout",
          "output_type": "stream",
          "text": [
            "edite\n"
          ]
        }
      ]
    }
  ]
}