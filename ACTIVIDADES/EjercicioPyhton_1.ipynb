{
  "nbformat": 4,
  "nbformat_minor": 0,
  "metadata": {
    "colab": {
      "provenance": [],
      "authorship_tag": "ABX9TyNHVCoBqrMkcjEa6fMRFzIS"
    },
    "kernelspec": {
      "name": "python3",
      "display_name": "Python 3"
    },
    "language_info": {
      "name": "python"
    }
  },
  "cells": [
    {
      "cell_type": "markdown",
      "source": [
        "# **ACTIVIDAD 2.- EJERCICIOS EN PYTHON**\n",
        "\n"
      ],
      "metadata": {
        "id": "Bvtjtcxm0H7M"
      }
    },
    {
      "cell_type": "markdown",
      "source": [
        "## **PROGRAMA #1**\n",
        "\n",
        "Programa que solicite al usuario un número y que indique si es par o impar."
      ],
      "metadata": {
        "id": "JaXNzAtd0MHj"
      }
    },
    {
      "cell_type": "code",
      "execution_count": 22,
      "metadata": {
        "colab": {
          "base_uri": "https://localhost:8080/"
        },
        "id": "CEh_9IOy0DLt",
        "outputId": "436f1f43-a0cc-4530-ef41-4aea8c37575c"
      },
      "outputs": [
        {
          "output_type": "stream",
          "name": "stdout",
          "text": [
            "Ingrese un numero: 5\n",
            " \n",
            "El numero 5 es impar\n"
          ]
        }
      ],
      "source": [
        "\"\"\"\n",
        "El usuario deberá ingresar un numero y el programa\n",
        "determinará si es un número Par o Impar\n",
        "\"\"\"\n",
        "\n",
        "Numero = int(input(\"Ingrese un numero: \"))\n",
        "\n",
        "if Numero % 2:\n",
        "  print(\" \")\n",
        "  print(\"El numero\", Numero, \"es impar\")\n",
        "else:\n",
        "  print(\" \")\n",
        "  print(\"El numero\", Numero, \"es par\")"
      ]
    },
    {
      "cell_type": "markdown",
      "source": [
        "---\n",
        "## **PROGRAMA #2**\n",
        "\n",
        "\n",
        "Escribe un programa que tome una lista de números ingresados por el usuario y muestre la lista en orden inverso."
      ],
      "metadata": {
        "id": "M621GC-z0ihp"
      }
    },
    {
      "cell_type": "code",
      "source": [
        "\"\"\"\n",
        "El usuario deberá ingresar la cantidad de numeros\n",
        "que desea ingresar y ese será el tamaño de la lista\n",
        "\"\"\"\n",
        "ListaDeNumeros = []\n",
        "x = 1\n",
        "TamLista = int(input(\"¿Cuantos numeros desea ingresar?:\"))\n",
        "print(\" \")\n",
        "\n",
        "while x <= TamLista:\n",
        "  x = x + 1\n",
        "  NumerosDeLaLista = int(input(\"Ingrese un numero: \"))\n",
        "  ListaDeNumeros.append(NumerosDeLaLista)\n",
        "\n",
        "print(\" \")\n",
        "ListaDeNumeros.reverse()\n",
        "print(f\"Los numeros ingresados fueron: {ListaDeNumeros}\")"
      ],
      "metadata": {
        "id": "LUeGzeoi7ltC",
        "colab": {
          "base_uri": "https://localhost:8080/"
        },
        "outputId": "e4250c61-3f38-487d-f9e7-f915765e11b5"
      },
      "execution_count": 23,
      "outputs": [
        {
          "output_type": "stream",
          "name": "stdout",
          "text": [
            "¿Cuantos numeros desea ingresar?:4\n",
            " \n",
            "Ingrese un numero: 2\n",
            "Ingrese un numero: 4\n",
            "Ingrese un numero: 5\n",
            "Ingrese un numero: 7\n",
            " \n",
            "Los numeros ingresados fueron: [7, 5, 4, 2]\n"
          ]
        }
      ]
    },
    {
      "cell_type": "markdown",
      "source": [
        "---\n",
        "## **PROGRAMA #3**\n",
        "\n",
        "Juego de adivinar el número: Crea un programa que genere un número aleatorio entre 1 y 100, y luego le pida al usuario que adivine el número. El programa debe proporcionar pistas al usuario si el número es mayor o menor que el número objetivo, y seguir solicitando un nuevo intento hasta que el usuario adivine correctamente.\n"
      ],
      "metadata": {
        "id": "HKygxWZvoiKH"
      }
    },
    {
      "cell_type": "code",
      "source": [
        "\"\"\"\n",
        "El programa generará un Numero Aleatorio\n",
        "\"\"\"\n",
        "\n",
        "import random\n",
        "\n",
        "NumeroAleatorio = random.randint(1,100)\n",
        "\n",
        "NumeroElegido = int\n",
        "\n",
        "print(\"Adivine un Numero del 1 al 100\")\n",
        "print(\" \")\n",
        "print(\" \")\n",
        "\n",
        "while NumeroAleatorio != NumeroElegido:\n",
        "  NumeroElegido = int(input(\"Escriba un numero: \"))\n",
        "  if NumeroElegido > NumeroAleatorio:\n",
        "    print(\"El numero que debe encontrar es más bajo\")\n",
        "    print(\" \")\n",
        "  elif NumeroElegido < NumeroAleatorio:\n",
        "    print(\"El numero que debe encontrar es más alto\")\n",
        "    print(\" \")\n",
        "\n",
        "print(\" \")\n",
        "print(\"¡¡¡Felicidades!!!\")\n",
        "print(\"Ha encontrado el numero\")"
      ],
      "metadata": {
        "colab": {
          "base_uri": "https://localhost:8080/"
        },
        "id": "monkZ8iC8qlB",
        "outputId": "d622ace5-7b6a-4a60-ec3b-347ed0e10643"
      },
      "execution_count": 11,
      "outputs": [
        {
          "output_type": "stream",
          "name": "stdout",
          "text": [
            "Adivine un Numero del 1 al 100\n",
            " \n",
            " \n",
            "Escriba un numero: 50\n",
            "El numero que debe encontrar es más bajo\n",
            " \n",
            "Escriba un numero: 25\n",
            "El numero que debe encontrar es más alto\n",
            " \n",
            "Escriba un numero: 37\n",
            "El numero que debe encontrar es más bajo\n",
            " \n",
            "Escriba un numero: 30\n",
            "El numero que debe encontrar es más bajo\n",
            " \n",
            "Escriba un numero: 27\n",
            "El numero que debe encontrar es más alto\n",
            " \n",
            "Escriba un numero: 29\n",
            " \n",
            "¡¡¡Felicidades!!!\n",
            "Ha encontrado el numero\n"
          ]
        }
      ]
    }
  ]
}