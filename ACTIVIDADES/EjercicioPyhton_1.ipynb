{
  "nbformat": 4,
  "nbformat_minor": 0,
  "metadata": {
    "colab": {
      "provenance": [],
      "authorship_tag": "ABX9TyM1+ZcidITUXNcwdAk8o4wT"
    },
    "kernelspec": {
      "name": "python3",
      "display_name": "Python 3"
    },
    "language_info": {
      "name": "python"
    }
  },
  "cells": [
    {
      "cell_type": "markdown",
      "source": [
        "ㅤㅤㅤㅤㅤㅤㅤ**ACTIVIDAD 2.- EJERCICIOS EN PYTHON**"
      ],
      "metadata": {
        "id": "Bvtjtcxm0H7M"
      }
    },
    {
      "cell_type": "markdown",
      "source": [
        "ㅤㅤㅤㅤㅤㅤㅤㅤㅤㅤㅤㅤ**PROGRAMA #1**\n",
        "\n",
        "Programa que solicite al usuario un número y que indique si es par o impar."
      ],
      "metadata": {
        "id": "JaXNzAtd0MHj"
      }
    },
    {
      "cell_type": "code",
      "execution_count": 22,
      "metadata": {
        "colab": {
          "base_uri": "https://localhost:8080/"
        },
        "id": "CEh_9IOy0DLt",
        "outputId": "436f1f43-a0cc-4530-ef41-4aea8c37575c"
      },
      "outputs": [
        {
          "output_type": "stream",
          "name": "stdout",
          "text": [
            "Ingrese un numero: 5\n",
            " \n",
            "El numero 5 es impar\n"
          ]
        }
      ],
      "source": [
        "\"\"\"\n",
        "El usuario deberá ingresar un numero y el programa\n",
        "determinará si es un número Par o Impar\n",
        "\"\"\"\n",
        "\n",
        "Numero = int(input(\"Ingrese un numero: \"))\n",
        "\n",
        "if Numero % 2:\n",
        "  print(\" \")\n",
        "  print(\"El numero\", Numero, \"es impar\")\n",
        "else:\n",
        "  print(\" \")\n",
        "  print(\"El numero\", Numero, \"es par\")"
      ]
    },
    {
      "cell_type": "markdown",
      "source": [
        "ㅤㅤㅤㅤㅤㅤㅤㅤㅤㅤㅤㅤ**PROGRAMA #2**\n",
        "\n",
        "Escribe un programa que tome una lista de números ingresados por el\n",
        "\n",
        "usuario y muestre la lista en orden inverso."
      ],
      "metadata": {
        "id": "M621GC-z0ihp"
      }
    },
    {
      "cell_type": "code",
      "source": [
        "\"\"\"\n",
        "El usuario deberá ingresar la cantidad de numeros\n",
        "que desea ingresar y ese será el tamaño de la lista\n",
        "\"\"\"\n",
        "ListaDeNumeros = []\n",
        "x = 1\n",
        "TamLista = int(input(\"¿Cuantos numeros desea ingresar?:\"))\n",
        "print(\" \")\n",
        "\n",
        "while x <= TamLista:\n",
        "  x = x + 1\n",
        "  NumerosDeLaLista = int(input(\"Ingrese un numero: \"))\n",
        "  ListaDeNumeros.append(NumerosDeLaLista)\n",
        "\n",
        "print(\" \")\n",
        "ListaDeNumeros.reverse()\n",
        "print(f\"Los numeros ingresados fueron: {ListaDeNumeros}\")"
      ],
      "metadata": {
        "id": "LUeGzeoi7ltC",
        "colab": {
          "base_uri": "https://localhost:8080/"
        },
        "outputId": "e4250c61-3f38-487d-f9e7-f915765e11b5"
      },
      "execution_count": 23,
      "outputs": [
        {
          "output_type": "stream",
          "name": "stdout",
          "text": [
            "¿Cuantos numeros desea ingresar?:4\n",
            " \n",
            "Ingrese un numero: 2\n",
            "Ingrese un numero: 4\n",
            "Ingrese un numero: 5\n",
            "Ingrese un numero: 7\n",
            " \n",
            "Los numeros ingresados fueron: [7, 5, 4, 2]\n"
          ]
        }
      ]
    }
  ]
}